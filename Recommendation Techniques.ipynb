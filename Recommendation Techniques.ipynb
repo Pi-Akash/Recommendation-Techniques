{
 "cells": [
  {
   "cell_type": "code",
   "execution_count": 122,
   "metadata": {},
   "outputs": [],
   "source": [
    "#https://www.kaggle.com/indralin/try-content-based-and-collaborative-filtering\n",
    "#https://www.kaggle.com/indralin/movielens-project-1-2-collaborative-filtering\n",
    "#https://www.kaggle.com/CooperUnion/anime-recommendations-database"
   ]
  },
  {
   "cell_type": "code",
   "execution_count": 1,
   "metadata": {},
   "outputs": [],
   "source": [
    "import os\n",
    "datapath = \"D:/Datasets/Anime_Dataset\"\n",
    "os.chdir(datapath)"
   ]
  },
  {
   "cell_type": "code",
   "execution_count": 2,
   "metadata": {},
   "outputs": [],
   "source": [
    "import pandas as pd\n",
    "import numpy as np\n",
    "import matplotlib.pyplot as plt\n",
    "import seaborn as sns\n",
    "from scipy.sparse import csr_matrix\n",
    "from sklearn.decomposition import TruncatedSVD\n",
    "from sklearn.metrics.pairwise import cosine_similarity\n",
    "import random\n",
    "import warnings\n",
    "import re\n",
    "warnings.filterwarnings(\"ignore\")"
   ]
  },
  {
   "cell_type": "code",
   "execution_count": 3,
   "metadata": {},
   "outputs": [],
   "source": [
    "anime = pd.read_csv(\"anime.csv\")\n",
    "ratings = pd.read_csv(\"rating.csv\")"
   ]
  },
  {
   "cell_type": "code",
   "execution_count": 4,
   "metadata": {},
   "outputs": [
    {
     "name": "stdout",
     "output_type": "stream",
     "text": [
      "Total unique anime :  12294\n",
      "Total unique users :  73515\n"
     ]
    }
   ],
   "source": [
    "print(\"Total unique anime : \", len(np.unique(anime['anime_id'])))\n",
    "print(\"Total unique users : \", len(np.unique(ratings[\"user_id\"])))"
   ]
  },
  {
   "cell_type": "code",
   "execution_count": 5,
   "metadata": {},
   "outputs": [
    {
     "data": {
      "text/plain": [
       "anime_id      0\n",
       "name          0\n",
       "genre        62\n",
       "type         25\n",
       "episodes      0\n",
       "rating      230\n",
       "members       0\n",
       "dtype: int64"
      ]
     },
     "execution_count": 5,
     "metadata": {},
     "output_type": "execute_result"
    }
   ],
   "source": [
    "# data cleaning\n",
    "null_features = anime[anime.isnull().any(1)].columns\n",
    "anime[null_features].isnull().sum()"
   ]
  },
  {
   "cell_type": "code",
   "execution_count": 6,
   "metadata": {},
   "outputs": [],
   "source": [
    "anime.dropna(inplace = True)"
   ]
  },
  {
   "cell_type": "code",
   "execution_count": 7,
   "metadata": {},
   "outputs": [],
   "source": [
    "def text_cleaning(text):\n",
    "    text = re.sub(r'&quot;', '', text)\n",
    "    text = re.sub(r'.hack//', '', text)\n",
    "    text = re.sub(r'&#039;', '', text)\n",
    "    text = re.sub(r'A&#039;s', '', text)\n",
    "    text = re.sub(r'I&#039;', 'I\\'', text)\n",
    "    text = re.sub(r'&amp;', 'and', text)\n",
    "    return text\n",
    "\n",
    "anime['name'] = anime['name'].apply(text_cleaning)"
   ]
  },
  {
   "cell_type": "code",
   "execution_count": 8,
   "metadata": {},
   "outputs": [],
   "source": [
    "from collections import defaultdict\n",
    "\n",
    "all_genres = defaultdict(int)\n",
    "\n",
    "for genres in anime['genre']:\n",
    "    for genre in genres.split(','):\n",
    "        all_genres[genre.strip()] += 1"
   ]
  },
  {
   "cell_type": "markdown",
   "metadata": {},
   "source": [
    "### Content based recommendation system"
   ]
  },
  {
   "cell_type": "code",
   "execution_count": 10,
   "metadata": {},
   "outputs": [],
   "source": [
    "from sklearn.feature_extraction.text import TfidfVectorizer\n",
    "\n",
    "genres_str = anime['genre'].str.split(',').astype(str)\n",
    "\n",
    "tfidf = TfidfVectorizer(analyzer = 'word',\n",
    "                        ngram_range = (1,4),\n",
    "                        min_df = 0)\n",
    "\n",
    "tfidf_matrix = tfidf.fit_transform(genres_str)"
   ]
  },
  {
   "cell_type": "code",
   "execution_count": 11,
   "metadata": {},
   "outputs": [],
   "source": [
    "from sklearn.metrics.pairwise import linear_kernel, sigmoid_kernel\n",
    "\n",
    "lin = linear_kernel(tfidf_matrix, tfidf_matrix)\n",
    "sig = sigmoid_kernel(tfidf_matrix, tfidf_matrix)"
   ]
  },
  {
   "cell_type": "code",
   "execution_count": 12,
   "metadata": {},
   "outputs": [],
   "source": [
    "vocabs = {value : key for key, value in tfidf.vocabulary_.items()}"
   ]
  },
  {
   "cell_type": "code",
   "execution_count": 13,
   "metadata": {},
   "outputs": [],
   "source": [
    "tfidf_df = pd.DataFrame(tfidf_matrix.toarray())"
   ]
  },
  {
   "cell_type": "code",
   "execution_count": 14,
   "metadata": {},
   "outputs": [],
   "source": [
    "tfidf_df.columns = tfidf_df.columns.map(vocabs)"
   ]
  },
  {
   "cell_type": "code",
   "execution_count": 15,
   "metadata": {},
   "outputs": [
    {
     "data": {
      "text/plain": [
       "name\n",
       "Kimi no Na wa.                      0\n",
       "Fullmetal Alchemist: Brotherhood    1\n",
       "Gintama°                            2\n",
       "Steins;Gate                         3\n",
       "Gintama                             4\n",
       "dtype: int64"
      ]
     },
     "execution_count": 15,
     "metadata": {},
     "output_type": "execute_result"
    }
   ],
   "source": [
    "indices = pd.Series(anime.index, index = anime['name'])\n",
    "indices.head()"
   ]
  },
  {
   "cell_type": "code",
   "execution_count": 16,
   "metadata": {},
   "outputs": [],
   "source": [
    "def genre_recommendations(title, similarity = False, highest_rating = False):\n",
    "    \n",
    "    idx = indices[title]\n",
    "    \n",
    "    sim_scores = list(enumerate(lin[idx]))\n",
    "    sim_scores = sorted(sim_scores, key = lambda x: x[1], reverse = True)\n",
    "    sim_scores = sim_scores[:11]\n",
    "    \n",
    "    anime_indices = [i[0] for i in sim_scores]\n",
    "    similarity_ = [i[1] for i in sim_scores]\n",
    "    \n",
    "    if similarity == False:\n",
    "        if highest_rating == False:\n",
    "            return pd.DataFrame({\n",
    "                \"Anime name\" : anime['name'].iloc[anime_indices].values,\n",
    "                \"Rating\" : anime['rating'].iloc[anime_indices].values,\n",
    "                'Type' : anime['type'].iloc[anime_indices].values,\n",
    "            })\n",
    "        \n",
    "        if highest_rating == True:\n",
    "            return pd.DataFrame({\n",
    "                \"Anime name\" : anime['name'].iloc[anime_indices].values,\n",
    "                \"Rating\" : anime['rating'].iloc[anime_indices].values,\n",
    "                'Type' : anime['type'].iloc[anime_indices].values,\n",
    "            }).sort_values(by = ['Rating'], ascending = False)\n",
    "    \n",
    "    elif similarity == True:\n",
    "        if highest_rating == False:\n",
    "            return pd.DataFrame({\n",
    "                \"Anime name\" : anime['name'].iloc[anime_indices].values,\n",
    "                'Similarity' : similarity_,\n",
    "                'Type' : anime['type'].iloc[anime_indices].values\n",
    "            })\n",
    "        \n",
    "        elif highest_rating == True:\n",
    "            return pd.DataFrame({\n",
    "                \"Anime name\" : anime['name'].iloc[anime_indices].values,\n",
    "                'Similarity' : similarity_,\n",
    "                \"Rating\" : anime['rating'].iloc[anime_indices].values,\n",
    "                'Type' : anime['type'].iloc[anime_indices].values\n",
    "            }).sort_values(by = ['Rating'], ascending = False)"
   ]
  },
  {
   "cell_type": "code",
   "execution_count": 17,
   "metadata": {},
   "outputs": [
    {
     "data": {
      "text/html": [
       "<div>\n",
       "<style scoped>\n",
       "    .dataframe tbody tr th:only-of-type {\n",
       "        vertical-align: middle;\n",
       "    }\n",
       "\n",
       "    .dataframe tbody tr th {\n",
       "        vertical-align: top;\n",
       "    }\n",
       "\n",
       "    .dataframe thead th {\n",
       "        text-align: right;\n",
       "    }\n",
       "</style>\n",
       "<table border=\"1\" class=\"dataframe\">\n",
       "  <thead>\n",
       "    <tr style=\"text-align: right;\">\n",
       "      <th></th>\n",
       "      <th>Anime name</th>\n",
       "      <th>Similarity</th>\n",
       "      <th>Rating</th>\n",
       "      <th>Type</th>\n",
       "    </tr>\n",
       "  </thead>\n",
       "  <tbody>\n",
       "    <tr>\n",
       "      <th>0</th>\n",
       "      <td>Doraemon (1979)</td>\n",
       "      <td>1.000000</td>\n",
       "      <td>7.76</td>\n",
       "      <td>TV</td>\n",
       "    </tr>\n",
       "    <tr>\n",
       "      <th>6</th>\n",
       "      <td>Doraemon: Obaachan no Omoide</td>\n",
       "      <td>0.924682</td>\n",
       "      <td>7.44</td>\n",
       "      <td>Movie</td>\n",
       "    </tr>\n",
       "    <tr>\n",
       "      <th>1</th>\n",
       "      <td>Doraemon Movie 11: Nobita to Animal Planet</td>\n",
       "      <td>1.000000</td>\n",
       "      <td>7.42</td>\n",
       "      <td>Movie</td>\n",
       "    </tr>\n",
       "    <tr>\n",
       "      <th>7</th>\n",
       "      <td>Doraemon: Doraemon Comes Back</td>\n",
       "      <td>0.924682</td>\n",
       "      <td>7.39</td>\n",
       "      <td>Special</td>\n",
       "    </tr>\n",
       "    <tr>\n",
       "      <th>2</th>\n",
       "      <td>Doraemon Movie 19: Nobita no Nankai Daibouken</td>\n",
       "      <td>1.000000</td>\n",
       "      <td>7.25</td>\n",
       "      <td>Movie</td>\n",
       "    </tr>\n",
       "    <tr>\n",
       "      <th>3</th>\n",
       "      <td>Doraemon Movie 16: Nobita no Sousei Nikki</td>\n",
       "      <td>1.000000</td>\n",
       "      <td>7.23</td>\n",
       "      <td>Movie</td>\n",
       "    </tr>\n",
       "    <tr>\n",
       "      <th>8</th>\n",
       "      <td>Doraemon: The Day When I Was Born</td>\n",
       "      <td>0.924682</td>\n",
       "      <td>7.15</td>\n",
       "      <td>Movie</td>\n",
       "    </tr>\n",
       "    <tr>\n",
       "      <th>9</th>\n",
       "      <td>The☆Doraemons: The Mysterious Thief Dorapan Th...</td>\n",
       "      <td>0.924682</td>\n",
       "      <td>7.04</td>\n",
       "      <td>Movie</td>\n",
       "    </tr>\n",
       "    <tr>\n",
       "      <th>4</th>\n",
       "      <td>Dorami and Doraemons: Space Lands Critical Event</td>\n",
       "      <td>1.000000</td>\n",
       "      <td>6.93</td>\n",
       "      <td>Movie</td>\n",
       "    </tr>\n",
       "    <tr>\n",
       "      <th>5</th>\n",
       "      <td>The☆Doraemons: Dokidoki Kikansha Daibakusou!</td>\n",
       "      <td>1.000000</td>\n",
       "      <td>6.87</td>\n",
       "      <td>Movie</td>\n",
       "    </tr>\n",
       "    <tr>\n",
       "      <th>10</th>\n",
       "      <td>Doraemon: Featherplace</td>\n",
       "      <td>0.924682</td>\n",
       "      <td>6.82</td>\n",
       "      <td>Special</td>\n",
       "    </tr>\n",
       "  </tbody>\n",
       "</table>\n",
       "</div>"
      ],
      "text/plain": [
       "                                           Anime name  Similarity  Rating  \\\n",
       "0                                     Doraemon (1979)    1.000000    7.76   \n",
       "6                        Doraemon: Obaachan no Omoide    0.924682    7.44   \n",
       "1          Doraemon Movie 11: Nobita to Animal Planet    1.000000    7.42   \n",
       "7                       Doraemon: Doraemon Comes Back    0.924682    7.39   \n",
       "2       Doraemon Movie 19: Nobita no Nankai Daibouken    1.000000    7.25   \n",
       "3           Doraemon Movie 16: Nobita no Sousei Nikki    1.000000    7.23   \n",
       "8                   Doraemon: The Day When I Was Born    0.924682    7.15   \n",
       "9   The☆Doraemons: The Mysterious Thief Dorapan Th...    0.924682    7.04   \n",
       "4    Dorami and Doraemons: Space Lands Critical Event    1.000000    6.93   \n",
       "5        The☆Doraemons: Dokidoki Kikansha Daibakusou!    1.000000    6.87   \n",
       "10                             Doraemon: Featherplace    0.924682    6.82   \n",
       "\n",
       "       Type  \n",
       "0        TV  \n",
       "6     Movie  \n",
       "1     Movie  \n",
       "7   Special  \n",
       "2     Movie  \n",
       "3     Movie  \n",
       "8     Movie  \n",
       "9     Movie  \n",
       "4     Movie  \n",
       "5     Movie  \n",
       "10  Special  "
      ]
     },
     "execution_count": 17,
     "metadata": {},
     "output_type": "execute_result"
    }
   ],
   "source": [
    "genre_recommendations('Doraemon (1979)', highest_rating = True, similarity = True)"
   ]
  },
  {
   "cell_type": "markdown",
   "metadata": {},
   "source": [
    "### collaborative filtering"
   ]
  },
  {
   "cell_type": "markdown",
   "metadata": {},
   "source": [
    "### simple collaborative filtering / Memory Based collaborative filtering"
   ]
  },
  {
   "cell_type": "code",
   "execution_count": 20,
   "metadata": {},
   "outputs": [],
   "source": [
    "anime = pd.read_csv(\"anime.csv\")\n",
    "ratings = pd.read_csv(\"rating.csv\")"
   ]
  },
  {
   "cell_type": "code",
   "execution_count": 21,
   "metadata": {},
   "outputs": [],
   "source": [
    "data = pd.merge(anime, ratings, on = 'anime_id', suffixes = ['','_user'])"
   ]
  },
  {
   "cell_type": "code",
   "execution_count": 22,
   "metadata": {},
   "outputs": [
    {
     "data": {
      "text/html": [
       "<div>\n",
       "<style scoped>\n",
       "    .dataframe tbody tr th:only-of-type {\n",
       "        vertical-align: middle;\n",
       "    }\n",
       "\n",
       "    .dataframe tbody tr th {\n",
       "        vertical-align: top;\n",
       "    }\n",
       "\n",
       "    .dataframe thead th {\n",
       "        text-align: right;\n",
       "    }\n",
       "</style>\n",
       "<table border=\"1\" class=\"dataframe\">\n",
       "  <thead>\n",
       "    <tr style=\"text-align: right;\">\n",
       "      <th></th>\n",
       "      <th>anime_id</th>\n",
       "      <th>anime_title</th>\n",
       "      <th>genre</th>\n",
       "      <th>type</th>\n",
       "      <th>episodes</th>\n",
       "      <th>rating</th>\n",
       "      <th>members</th>\n",
       "      <th>user_id</th>\n",
       "      <th>user_rating</th>\n",
       "    </tr>\n",
       "  </thead>\n",
       "  <tbody>\n",
       "    <tr>\n",
       "      <th>0</th>\n",
       "      <td>32281</td>\n",
       "      <td>Kimi no Na wa.</td>\n",
       "      <td>Drama, Romance, School, Supernatural</td>\n",
       "      <td>Movie</td>\n",
       "      <td>1</td>\n",
       "      <td>9.37</td>\n",
       "      <td>200630</td>\n",
       "      <td>99</td>\n",
       "      <td>5</td>\n",
       "    </tr>\n",
       "    <tr>\n",
       "      <th>1</th>\n",
       "      <td>32281</td>\n",
       "      <td>Kimi no Na wa.</td>\n",
       "      <td>Drama, Romance, School, Supernatural</td>\n",
       "      <td>Movie</td>\n",
       "      <td>1</td>\n",
       "      <td>9.37</td>\n",
       "      <td>200630</td>\n",
       "      <td>152</td>\n",
       "      <td>10</td>\n",
       "    </tr>\n",
       "  </tbody>\n",
       "</table>\n",
       "</div>"
      ],
      "text/plain": [
       "   anime_id     anime_title                                 genre   type  \\\n",
       "0     32281  Kimi no Na wa.  Drama, Romance, School, Supernatural  Movie   \n",
       "1     32281  Kimi no Na wa.  Drama, Romance, School, Supernatural  Movie   \n",
       "\n",
       "  episodes  rating  members  user_id  user_rating  \n",
       "0        1    9.37   200630       99            5  \n",
       "1        1    9.37   200630      152           10  "
      ]
     },
     "execution_count": 22,
     "metadata": {},
     "output_type": "execute_result"
    }
   ],
   "source": [
    "data = data.rename(columns = {'name' : 'anime_title', 'rating_user' : 'user_rating'})\n",
    "data.head(2)"
   ]
  },
  {
   "cell_type": "code",
   "execution_count": 23,
   "metadata": {},
   "outputs": [],
   "source": [
    "data.dropna(inplace = True)"
   ]
  },
  {
   "cell_type": "code",
   "execution_count": 24,
   "metadata": {},
   "outputs": [],
   "source": [
    "import seaborn as sns\n",
    "# filtering userids which has given more than 2000 reviews\n",
    "counts = data['user_id'].value_counts()\n",
    "anime_feature = data[data['user_id'].isin(counts[counts >= 2000].index)].reset_index(drop = True)"
   ]
  },
  {
   "cell_type": "code",
   "execution_count": 25,
   "metadata": {},
   "outputs": [
    {
     "data": {
      "text/html": [
       "<div>\n",
       "<style scoped>\n",
       "    .dataframe tbody tr th:only-of-type {\n",
       "        vertical-align: middle;\n",
       "    }\n",
       "\n",
       "    .dataframe tbody tr th {\n",
       "        vertical-align: top;\n",
       "    }\n",
       "\n",
       "    .dataframe thead th {\n",
       "        text-align: right;\n",
       "    }\n",
       "</style>\n",
       "<table border=\"1\" class=\"dataframe\">\n",
       "  <thead>\n",
       "    <tr style=\"text-align: right;\">\n",
       "      <th>user_id</th>\n",
       "      <th>7345</th>\n",
       "      <th>12431</th>\n",
       "      <th>27364</th>\n",
       "      <th>28521</th>\n",
       "      <th>40604</th>\n",
       "      <th>42635</th>\n",
       "      <th>45659</th>\n",
       "      <th>48766</th>\n",
       "      <th>51693</th>\n",
       "      <th>53492</th>\n",
       "      <th>53698</th>\n",
       "      <th>57620</th>\n",
       "      <th>59643</th>\n",
       "      <th>65840</th>\n",
       "      <th>66021</th>\n",
       "    </tr>\n",
       "    <tr>\n",
       "      <th>anime_title</th>\n",
       "      <th></th>\n",
       "      <th></th>\n",
       "      <th></th>\n",
       "      <th></th>\n",
       "      <th></th>\n",
       "      <th></th>\n",
       "      <th></th>\n",
       "      <th></th>\n",
       "      <th></th>\n",
       "      <th></th>\n",
       "      <th></th>\n",
       "      <th></th>\n",
       "      <th></th>\n",
       "      <th></th>\n",
       "      <th></th>\n",
       "    </tr>\n",
       "  </thead>\n",
       "  <tbody>\n",
       "    <tr>\n",
       "      <th>&amp;quot;0&amp;quot;</th>\n",
       "      <td>0.0</td>\n",
       "      <td>2.0</td>\n",
       "      <td>0.0</td>\n",
       "      <td>0.0</td>\n",
       "      <td>0.0</td>\n",
       "      <td>5.0</td>\n",
       "      <td>0.0</td>\n",
       "      <td>-1.0</td>\n",
       "      <td>0.0</td>\n",
       "      <td>5.0</td>\n",
       "      <td>5.0</td>\n",
       "      <td>0.0</td>\n",
       "      <td>0.0</td>\n",
       "      <td>0.0</td>\n",
       "      <td>-1.0</td>\n",
       "    </tr>\n",
       "    <tr>\n",
       "      <th>&amp;quot;Aesop&amp;quot; no Ohanashi yori: Ushi to Kaeru, Yokubatta Inu</th>\n",
       "      <td>0.0</td>\n",
       "      <td>0.0</td>\n",
       "      <td>0.0</td>\n",
       "      <td>0.0</td>\n",
       "      <td>0.0</td>\n",
       "      <td>0.0</td>\n",
       "      <td>0.0</td>\n",
       "      <td>-1.0</td>\n",
       "      <td>0.0</td>\n",
       "      <td>0.0</td>\n",
       "      <td>0.0</td>\n",
       "      <td>0.0</td>\n",
       "      <td>0.0</td>\n",
       "      <td>0.0</td>\n",
       "      <td>0.0</td>\n",
       "    </tr>\n",
       "    <tr>\n",
       "      <th>&amp;quot;Bungaku Shoujo&amp;quot; Kyou no Oyatsu: Hatsukoi</th>\n",
       "      <td>7.0</td>\n",
       "      <td>5.0</td>\n",
       "      <td>-1.0</td>\n",
       "      <td>7.0</td>\n",
       "      <td>-1.0</td>\n",
       "      <td>6.0</td>\n",
       "      <td>7.0</td>\n",
       "      <td>-1.0</td>\n",
       "      <td>7.0</td>\n",
       "      <td>-1.0</td>\n",
       "      <td>4.0</td>\n",
       "      <td>0.0</td>\n",
       "      <td>7.0</td>\n",
       "      <td>8.0</td>\n",
       "      <td>0.0</td>\n",
       "    </tr>\n",
       "    <tr>\n",
       "      <th>&amp;quot;Bungaku Shoujo&amp;quot; Memoire</th>\n",
       "      <td>7.0</td>\n",
       "      <td>7.0</td>\n",
       "      <td>0.0</td>\n",
       "      <td>8.0</td>\n",
       "      <td>-1.0</td>\n",
       "      <td>6.0</td>\n",
       "      <td>9.0</td>\n",
       "      <td>-1.0</td>\n",
       "      <td>7.0</td>\n",
       "      <td>0.0</td>\n",
       "      <td>5.0</td>\n",
       "      <td>0.0</td>\n",
       "      <td>7.0</td>\n",
       "      <td>9.0</td>\n",
       "      <td>-1.0</td>\n",
       "    </tr>\n",
       "    <tr>\n",
       "      <th>&amp;quot;Bungaku Shoujo&amp;quot; Movie</th>\n",
       "      <td>7.0</td>\n",
       "      <td>8.0</td>\n",
       "      <td>-1.0</td>\n",
       "      <td>9.0</td>\n",
       "      <td>-1.0</td>\n",
       "      <td>6.0</td>\n",
       "      <td>9.0</td>\n",
       "      <td>-1.0</td>\n",
       "      <td>8.0</td>\n",
       "      <td>0.0</td>\n",
       "      <td>5.0</td>\n",
       "      <td>0.0</td>\n",
       "      <td>7.0</td>\n",
       "      <td>9.0</td>\n",
       "      <td>-1.0</td>\n",
       "    </tr>\n",
       "  </tbody>\n",
       "</table>\n",
       "</div>"
      ],
      "text/plain": [
       "user_id                                             7345   12431  27364  \\\n",
       "anime_title                                                               \n",
       "&quot;0&quot;                                         0.0    2.0    0.0   \n",
       "&quot;Aesop&quot; no Ohanashi yori: Ushi to Kae...    0.0    0.0    0.0   \n",
       "&quot;Bungaku Shoujo&quot; Kyou no Oyatsu: Hats...    7.0    5.0   -1.0   \n",
       "&quot;Bungaku Shoujo&quot; Memoire                    7.0    7.0    0.0   \n",
       "&quot;Bungaku Shoujo&quot; Movie                      7.0    8.0   -1.0   \n",
       "\n",
       "user_id                                             28521  40604  42635  \\\n",
       "anime_title                                                               \n",
       "&quot;0&quot;                                         0.0    0.0    5.0   \n",
       "&quot;Aesop&quot; no Ohanashi yori: Ushi to Kae...    0.0    0.0    0.0   \n",
       "&quot;Bungaku Shoujo&quot; Kyou no Oyatsu: Hats...    7.0   -1.0    6.0   \n",
       "&quot;Bungaku Shoujo&quot; Memoire                    8.0   -1.0    6.0   \n",
       "&quot;Bungaku Shoujo&quot; Movie                      9.0   -1.0    6.0   \n",
       "\n",
       "user_id                                             45659  48766  51693  \\\n",
       "anime_title                                                               \n",
       "&quot;0&quot;                                         0.0   -1.0    0.0   \n",
       "&quot;Aesop&quot; no Ohanashi yori: Ushi to Kae...    0.0   -1.0    0.0   \n",
       "&quot;Bungaku Shoujo&quot; Kyou no Oyatsu: Hats...    7.0   -1.0    7.0   \n",
       "&quot;Bungaku Shoujo&quot; Memoire                    9.0   -1.0    7.0   \n",
       "&quot;Bungaku Shoujo&quot; Movie                      9.0   -1.0    8.0   \n",
       "\n",
       "user_id                                             53492  53698  57620  \\\n",
       "anime_title                                                               \n",
       "&quot;0&quot;                                         5.0    5.0    0.0   \n",
       "&quot;Aesop&quot; no Ohanashi yori: Ushi to Kae...    0.0    0.0    0.0   \n",
       "&quot;Bungaku Shoujo&quot; Kyou no Oyatsu: Hats...   -1.0    4.0    0.0   \n",
       "&quot;Bungaku Shoujo&quot; Memoire                    0.0    5.0    0.0   \n",
       "&quot;Bungaku Shoujo&quot; Movie                      0.0    5.0    0.0   \n",
       "\n",
       "user_id                                             59643  65840  66021  \n",
       "anime_title                                                              \n",
       "&quot;0&quot;                                         0.0    0.0   -1.0  \n",
       "&quot;Aesop&quot; no Ohanashi yori: Ushi to Kae...    0.0    0.0    0.0  \n",
       "&quot;Bungaku Shoujo&quot; Kyou no Oyatsu: Hats...    7.0    8.0    0.0  \n",
       "&quot;Bungaku Shoujo&quot; Memoire                    7.0    9.0   -1.0  \n",
       "&quot;Bungaku Shoujo&quot; Movie                      7.0    9.0   -1.0  "
      ]
     },
     "execution_count": 25,
     "metadata": {},
     "output_type": "execute_result"
    }
   ],
   "source": [
    "anime_pivot = anime_feature.pivot(index = 'anime_title',\n",
    "                                  columns = 'user_id',\n",
    "                                  values = 'user_rating').fillna(0)\n",
    "anime_pivot.head()"
   ]
  },
  {
   "cell_type": "code",
   "execution_count": 26,
   "metadata": {},
   "outputs": [
    {
     "data": {
      "text/plain": [
       "NearestNeighbors(algorithm='brute', leaf_size=30, metric='cosine',\n",
       "                 metric_params=None, n_jobs=None, n_neighbors=5, p=2,\n",
       "                 radius=1.0)"
      ]
     },
     "execution_count": 26,
     "metadata": {},
     "output_type": "execute_result"
    }
   ],
   "source": [
    "from scipy.sparse import csr_matrix\n",
    "from sklearn.neighbors import NearestNeighbors\n",
    "\n",
    "anime_matrix = csr_matrix(anime_pivot.values)\n",
    "model_knn = NearestNeighbors(metric = 'cosine', algorithm = 'brute')\n",
    "model_knn.fit(anime_matrix)"
   ]
  },
  {
   "cell_type": "code",
   "execution_count": 27,
   "metadata": {},
   "outputs": [],
   "source": [
    "anime_index = {value : key for key, value in enumerate(anime_pivot.index)}"
   ]
  },
  {
   "cell_type": "code",
   "execution_count": 28,
   "metadata": {},
   "outputs": [
    {
     "name": "stdout",
     "output_type": "stream",
     "text": [
      "Recommendations for Nanami-chan 2nd Series : \n",
      "\n",
      "1 : Birthday Boy with distance of 1.1102230246251565e-16\n",
      "2 : Devilman: Tanjou-hen with distance of 1.1102230246251565e-16\n",
      "3 : Mobile Suit Gundam Unicorn: Episode EX - 100 Years of Solitude with distance of 1.1102230246251565e-16\n",
      "4 : Nanami-chan 2nd Series with distance of 1.1102230246251565e-16\n",
      "5 : Gaiking: Legend of Daiku-Maryu with distance of 1.1102230246251565e-16\n",
      "6 : Mainichi Kaasan with distance of 1.1102230246251565e-16\n",
      "7 : Monster Extra with distance of 1.1102230246251565e-16\n",
      "8 : Transformers: Scramble City with distance of 1.1102230246251565e-16\n",
      "9 : Devilman: Yochou Sirene-hen with distance of 1.1102230246251565e-16\n",
      "10 : Panda-Z: The Robonimation with distance of 1.1102230246251565e-16\n"
     ]
    }
   ],
   "source": [
    "query_index = 6572\n",
    "distances, indices = model_knn.kneighbors(anime_pivot.iloc[query_index, :].values.reshape(1, -1), n_neighbors = 11)\n",
    "\n",
    "\n",
    "for i in range(0, len(distances.flatten())):\n",
    "    if i == 0:\n",
    "        print(\"Recommendations for {} : \\n\".format(anime_pivot.index[query_index]))\n",
    "    else:\n",
    "        print(\"{} : {} with distance of {}\".format(i, anime_pivot.index[indices.flatten()[i]], distances.flatten()[i]))"
   ]
  },
  {
   "cell_type": "markdown",
   "metadata": {},
   "source": [
    "### Model based collaborative filtering"
   ]
  },
  {
   "cell_type": "code",
   "execution_count": 30,
   "metadata": {},
   "outputs": [],
   "source": [
    "import numpy as np\n",
    "import pandas as pd\n",
    "import matplotlib.pyplot as plt\n",
    "import seaborn as sns\n",
    "import os\n",
    "import re"
   ]
  },
  {
   "cell_type": "code",
   "execution_count": 31,
   "metadata": {},
   "outputs": [],
   "source": [
    "anime = pd.read_csv(\"anime.csv\")\n",
    "ratings = pd.read_csv(\"rating.csv\")"
   ]
  },
  {
   "cell_type": "code",
   "execution_count": 32,
   "metadata": {},
   "outputs": [],
   "source": [
    "data = pd.merge(anime, ratings, on = 'anime_id', suffixes = ['','_user'])"
   ]
  },
  {
   "cell_type": "code",
   "execution_count": 33,
   "metadata": {},
   "outputs": [],
   "source": [
    "data = data.rename(columns = {'name' : 'anime_title', 'rating_user' : 'user_rating'})"
   ]
  },
  {
   "cell_type": "code",
   "execution_count": 34,
   "metadata": {},
   "outputs": [],
   "source": [
    "data['user_rating'].replace({-1 : np.nan}, inplace = True)"
   ]
  },
  {
   "cell_type": "code",
   "execution_count": 35,
   "metadata": {},
   "outputs": [
    {
     "data": {
      "text/plain": [
       "anime_id             0\n",
       "anime_title          0\n",
       "genre              110\n",
       "type                 4\n",
       "episodes             0\n",
       "rating               6\n",
       "members              0\n",
       "user_id              0\n",
       "user_rating    1476488\n",
       "dtype: int64"
      ]
     },
     "execution_count": 35,
     "metadata": {},
     "output_type": "execute_result"
    }
   ],
   "source": [
    "data.isnull().sum()"
   ]
  },
  {
   "cell_type": "code",
   "execution_count": 36,
   "metadata": {},
   "outputs": [
    {
     "name": "stdout",
     "output_type": "stream",
     "text": [
      "(7813727, 9)\n",
      "(6337146, 9)\n"
     ]
    }
   ],
   "source": [
    "print(data.shape)\n",
    "data.dropna(inplace = True)\n",
    "print(data.shape)\n",
    "data = data.reset_index(drop = True)"
   ]
  },
  {
   "cell_type": "code",
   "execution_count": 37,
   "metadata": {},
   "outputs": [],
   "source": [
    "counts = data['user_id'].value_counts()\n",
    "anime_feature = data[data['user_id'].isin(counts[counts >= 200].index)].reset_index(drop = True)"
   ]
  },
  {
   "cell_type": "code",
   "execution_count": 38,
   "metadata": {},
   "outputs": [
    {
     "data": {
      "text/html": [
       "<div>\n",
       "<style scoped>\n",
       "    .dataframe tbody tr th:only-of-type {\n",
       "        vertical-align: middle;\n",
       "    }\n",
       "\n",
       "    .dataframe tbody tr th {\n",
       "        vertical-align: top;\n",
       "    }\n",
       "\n",
       "    .dataframe thead th {\n",
       "        text-align: right;\n",
       "    }\n",
       "</style>\n",
       "<table border=\"1\" class=\"dataframe\">\n",
       "  <thead>\n",
       "    <tr style=\"text-align: right;\">\n",
       "      <th></th>\n",
       "      <th>anime_id</th>\n",
       "      <th>anime_title</th>\n",
       "      <th>genre</th>\n",
       "      <th>type</th>\n",
       "      <th>episodes</th>\n",
       "      <th>rating</th>\n",
       "      <th>members</th>\n",
       "      <th>user_id</th>\n",
       "      <th>user_rating</th>\n",
       "    </tr>\n",
       "  </thead>\n",
       "  <tbody>\n",
       "    <tr>\n",
       "      <th>0</th>\n",
       "      <td>32281</td>\n",
       "      <td>Kimi no Na wa.</td>\n",
       "      <td>Drama, Romance, School, Supernatural</td>\n",
       "      <td>Movie</td>\n",
       "      <td>1</td>\n",
       "      <td>9.37</td>\n",
       "      <td>200630</td>\n",
       "      <td>244</td>\n",
       "      <td>10.0</td>\n",
       "    </tr>\n",
       "    <tr>\n",
       "      <th>1</th>\n",
       "      <td>32281</td>\n",
       "      <td>Kimi no Na wa.</td>\n",
       "      <td>Drama, Romance, School, Supernatural</td>\n",
       "      <td>Movie</td>\n",
       "      <td>1</td>\n",
       "      <td>9.37</td>\n",
       "      <td>200630</td>\n",
       "      <td>271</td>\n",
       "      <td>10.0</td>\n",
       "    </tr>\n",
       "    <tr>\n",
       "      <th>2</th>\n",
       "      <td>32281</td>\n",
       "      <td>Kimi no Na wa.</td>\n",
       "      <td>Drama, Romance, School, Supernatural</td>\n",
       "      <td>Movie</td>\n",
       "      <td>1</td>\n",
       "      <td>9.37</td>\n",
       "      <td>200630</td>\n",
       "      <td>462</td>\n",
       "      <td>8.0</td>\n",
       "    </tr>\n",
       "  </tbody>\n",
       "</table>\n",
       "</div>"
      ],
      "text/plain": [
       "   anime_id     anime_title                                 genre   type  \\\n",
       "0     32281  Kimi no Na wa.  Drama, Romance, School, Supernatural  Movie   \n",
       "1     32281  Kimi no Na wa.  Drama, Romance, School, Supernatural  Movie   \n",
       "2     32281  Kimi no Na wa.  Drama, Romance, School, Supernatural  Movie   \n",
       "\n",
       "  episodes  rating  members  user_id  user_rating  \n",
       "0        1    9.37   200630      244         10.0  \n",
       "1        1    9.37   200630      271         10.0  \n",
       "2        1    9.37   200630      462          8.0  "
      ]
     },
     "execution_count": 38,
     "metadata": {},
     "output_type": "execute_result"
    }
   ],
   "source": [
    "anime_feature.head(3)"
   ]
  },
  {
   "cell_type": "code",
   "execution_count": 39,
   "metadata": {},
   "outputs": [],
   "source": [
    "# Exploratory data analysis"
   ]
  },
  {
   "cell_type": "code",
   "execution_count": 40,
   "metadata": {},
   "outputs": [
    {
     "data": {
      "image/png": "[encoded data removed]",
      "text/plain": [
       "<Figure size 720x216 with 1 Axes>"
      ]
     },
     "metadata": {
      "needs_background": "light"
     },
     "output_type": "display_data"
    }
   ],
   "source": [
    "# Top 10 most rated genre\n",
    "best = anime_feature.groupby(by = ['genre']).aggregate('count').sort_values(by = ['anime_id'], ascending = False).head(10)\n",
    "plt.figure(figsize = (10, 3))\n",
    "sns.barplot(best.index.values, best['anime_id'].values)\n",
    "plt.xticks(rotation = 90)\n",
    "plt.show()"
   ]
  },
  {
   "cell_type": "code",
   "execution_count": 41,
   "metadata": {},
   "outputs": [
    {
     "data": {
      "image/png": "[encoded data removed]",
      "text/plain": [
       "<Figure size 1080x720 with 2 Axes>"
      ]
     },
     "metadata": {
      "needs_background": "light"
     },
     "output_type": "display_data"
    }
   ],
   "source": [
    "# standings of top 10 genres based on user ratings\n",
    "best = anime_feature.groupby(by = ['genre']).aggregate('mean').sort_values(by = ['user_rating'], ascending = False)[['members', 'user_rating']].head(10)\n",
    "\n",
    "#plt.figure(figsize = (15, 5))\n",
    "##sns.barplot(best.index, best['members'].values)\n",
    "#sns.barplot(best.index, best['user_rating'].values)\n",
    "#plt.xticks(rotation = 90)\n",
    "#plt.show()\n",
    "\n",
    "fig = plt.figure(figsize = (15, 10))\n",
    "\n",
    "fig.add_subplot(1,2,1)\n",
    "sns.barplot(best.index, np.log(best['members'].values))\n",
    "plt.xticks(rotation = 90)\n",
    "\n",
    "fig.add_subplot(1,2,2)\n",
    "sns.barplot(best.index, best['user_rating'].values)\n",
    "plt.xticks(rotation = 90)\n",
    "\n",
    "plt.tight_layout()\n",
    "plt.show()"
   ]
  },
  {
   "cell_type": "code",
   "execution_count": 42,
   "metadata": {},
   "outputs": [
    {
     "data": {
      "text/plain": [
       "<matplotlib.axes._subplots.AxesSubplot at 0x191953269c8>"
      ]
     },
     "execution_count": 42,
     "metadata": {},
     "output_type": "execute_result"
    },
    {
     "data": {
      "image/png": "[encoded data removed]",
      "text/plain": [
       "<Figure size 432x288 with 1 Axes>"
      ]
     },
     "metadata": {
      "needs_background": "light"
     },
     "output_type": "display_data"
    }
   ],
   "source": [
    "sns.barplot(anime_feature['type'].value_counts().index,\n",
    "            anime_feature['type'].value_counts().values)"
   ]
  },
  {
   "cell_type": "code",
   "execution_count": 43,
   "metadata": {},
   "outputs": [
    {
     "name": "stdout",
     "output_type": "stream",
     "text": [
      "# users :  8713\n",
      "# anime :  9785\n"
     ]
    }
   ],
   "source": [
    "n_users = anime_feature['user_id'].nunique()\n",
    "n_anime = anime_feature['anime_id'].nunique()\n",
    "\n",
    "print(\"# users : \", n_users)\n",
    "print(\"# anime : \", n_anime)"
   ]
  },
  {
   "cell_type": "code",
   "execution_count": 44,
   "metadata": {},
   "outputs": [
    {
     "data": {
      "text/html": [
       "<div>\n",
       "<style scoped>\n",
       "    .dataframe tbody tr th:only-of-type {\n",
       "        vertical-align: middle;\n",
       "    }\n",
       "\n",
       "    .dataframe tbody tr th {\n",
       "        vertical-align: top;\n",
       "    }\n",
       "\n",
       "    .dataframe thead th {\n",
       "        text-align: right;\n",
       "    }\n",
       "</style>\n",
       "<table border=\"1\" class=\"dataframe\">\n",
       "  <thead>\n",
       "    <tr style=\"text-align: right;\">\n",
       "      <th></th>\n",
       "      <th>anime_id</th>\n",
       "      <th>anime_title</th>\n",
       "      <th>genre</th>\n",
       "      <th>type</th>\n",
       "      <th>episodes</th>\n",
       "      <th>rating</th>\n",
       "      <th>members</th>\n",
       "      <th>user_id</th>\n",
       "      <th>user_rating</th>\n",
       "    </tr>\n",
       "  </thead>\n",
       "  <tbody>\n",
       "    <tr>\n",
       "      <th>0</th>\n",
       "      <td>32281</td>\n",
       "      <td>Kimi no Na wa.</td>\n",
       "      <td>Drama, Romance, School, Supernatural</td>\n",
       "      <td>Movie</td>\n",
       "      <td>1</td>\n",
       "      <td>9.37</td>\n",
       "      <td>200630</td>\n",
       "      <td>244</td>\n",
       "      <td>10.0</td>\n",
       "    </tr>\n",
       "    <tr>\n",
       "      <th>1</th>\n",
       "      <td>32281</td>\n",
       "      <td>Kimi no Na wa.</td>\n",
       "      <td>Drama, Romance, School, Supernatural</td>\n",
       "      <td>Movie</td>\n",
       "      <td>1</td>\n",
       "      <td>9.37</td>\n",
       "      <td>200630</td>\n",
       "      <td>271</td>\n",
       "      <td>10.0</td>\n",
       "    </tr>\n",
       "    <tr>\n",
       "      <th>2</th>\n",
       "      <td>32281</td>\n",
       "      <td>Kimi no Na wa.</td>\n",
       "      <td>Drama, Romance, School, Supernatural</td>\n",
       "      <td>Movie</td>\n",
       "      <td>1</td>\n",
       "      <td>9.37</td>\n",
       "      <td>200630</td>\n",
       "      <td>462</td>\n",
       "      <td>8.0</td>\n",
       "    </tr>\n",
       "    <tr>\n",
       "      <th>3</th>\n",
       "      <td>32281</td>\n",
       "      <td>Kimi no Na wa.</td>\n",
       "      <td>Drama, Romance, School, Supernatural</td>\n",
       "      <td>Movie</td>\n",
       "      <td>1</td>\n",
       "      <td>9.37</td>\n",
       "      <td>200630</td>\n",
       "      <td>598</td>\n",
       "      <td>10.0</td>\n",
       "    </tr>\n",
       "    <tr>\n",
       "      <th>4</th>\n",
       "      <td>32281</td>\n",
       "      <td>Kimi no Na wa.</td>\n",
       "      <td>Drama, Romance, School, Supernatural</td>\n",
       "      <td>Movie</td>\n",
       "      <td>1</td>\n",
       "      <td>9.37</td>\n",
       "      <td>200630</td>\n",
       "      <td>784</td>\n",
       "      <td>9.0</td>\n",
       "    </tr>\n",
       "  </tbody>\n",
       "</table>\n",
       "</div>"
      ],
      "text/plain": [
       "   anime_id     anime_title                                 genre   type  \\\n",
       "0     32281  Kimi no Na wa.  Drama, Romance, School, Supernatural  Movie   \n",
       "1     32281  Kimi no Na wa.  Drama, Romance, School, Supernatural  Movie   \n",
       "2     32281  Kimi no Na wa.  Drama, Romance, School, Supernatural  Movie   \n",
       "3     32281  Kimi no Na wa.  Drama, Romance, School, Supernatural  Movie   \n",
       "4     32281  Kimi no Na wa.  Drama, Romance, School, Supernatural  Movie   \n",
       "\n",
       "  episodes  rating  members  user_id  user_rating  \n",
       "0        1    9.37   200630      244         10.0  \n",
       "1        1    9.37   200630      271         10.0  \n",
       "2        1    9.37   200630      462          8.0  \n",
       "3        1    9.37   200630      598         10.0  \n",
       "4        1    9.37   200630      784          9.0  "
      ]
     },
     "execution_count": 44,
     "metadata": {},
     "output_type": "execute_result"
    }
   ],
   "source": [
    "anime_feature.head()"
   ]
  },
  {
   "cell_type": "code",
   "execution_count": 45,
   "metadata": {},
   "outputs": [],
   "source": [
    "user_anime_matrix = anime_feature.pivot(index = 'user_id',\n",
    "                                        columns = 'anime_id',\n",
    "                                        values = 'user_rating').fillna(0)"
   ]
  },
  {
   "cell_type": "code",
   "execution_count": 46,
   "metadata": {},
   "outputs": [
    {
     "data": {
      "text/html": [
       "<div>\n",
       "<style scoped>\n",
       "    .dataframe tbody tr th:only-of-type {\n",
       "        vertical-align: middle;\n",
       "    }\n",
       "\n",
       "    .dataframe tbody tr th {\n",
       "        vertical-align: top;\n",
       "    }\n",
       "\n",
       "    .dataframe thead th {\n",
       "        text-align: right;\n",
       "    }\n",
       "</style>\n",
       "<table border=\"1\" class=\"dataframe\">\n",
       "  <thead>\n",
       "    <tr style=\"text-align: right;\">\n",
       "      <th>anime_id</th>\n",
       "      <th>1</th>\n",
       "      <th>5</th>\n",
       "      <th>6</th>\n",
       "      <th>7</th>\n",
       "      <th>8</th>\n",
       "      <th>15</th>\n",
       "      <th>16</th>\n",
       "      <th>17</th>\n",
       "      <th>18</th>\n",
       "      <th>19</th>\n",
       "      <th>...</th>\n",
       "      <th>34238</th>\n",
       "      <th>34239</th>\n",
       "      <th>34240</th>\n",
       "      <th>34252</th>\n",
       "      <th>34283</th>\n",
       "      <th>34324</th>\n",
       "      <th>34325</th>\n",
       "      <th>34349</th>\n",
       "      <th>34367</th>\n",
       "      <th>34475</th>\n",
       "    </tr>\n",
       "    <tr>\n",
       "      <th>user_id</th>\n",
       "      <th></th>\n",
       "      <th></th>\n",
       "      <th></th>\n",
       "      <th></th>\n",
       "      <th></th>\n",
       "      <th></th>\n",
       "      <th></th>\n",
       "      <th></th>\n",
       "      <th></th>\n",
       "      <th></th>\n",
       "      <th></th>\n",
       "      <th></th>\n",
       "      <th></th>\n",
       "      <th></th>\n",
       "      <th></th>\n",
       "      <th></th>\n",
       "      <th></th>\n",
       "      <th></th>\n",
       "      <th></th>\n",
       "      <th></th>\n",
       "      <th></th>\n",
       "    </tr>\n",
       "  </thead>\n",
       "  <tbody>\n",
       "    <tr>\n",
       "      <th>5</th>\n",
       "      <td>0.0</td>\n",
       "      <td>0.0</td>\n",
       "      <td>8.0</td>\n",
       "      <td>0.0</td>\n",
       "      <td>0.0</td>\n",
       "      <td>6.0</td>\n",
       "      <td>0.0</td>\n",
       "      <td>6.0</td>\n",
       "      <td>6.0</td>\n",
       "      <td>0.0</td>\n",
       "      <td>...</td>\n",
       "      <td>0.0</td>\n",
       "      <td>0.0</td>\n",
       "      <td>0.0</td>\n",
       "      <td>0.0</td>\n",
       "      <td>0.0</td>\n",
       "      <td>0.0</td>\n",
       "      <td>0.0</td>\n",
       "      <td>0.0</td>\n",
       "      <td>0.0</td>\n",
       "      <td>0.0</td>\n",
       "    </tr>\n",
       "    <tr>\n",
       "      <th>7</th>\n",
       "      <td>0.0</td>\n",
       "      <td>0.0</td>\n",
       "      <td>0.0</td>\n",
       "      <td>0.0</td>\n",
       "      <td>0.0</td>\n",
       "      <td>0.0</td>\n",
       "      <td>0.0</td>\n",
       "      <td>0.0</td>\n",
       "      <td>0.0</td>\n",
       "      <td>0.0</td>\n",
       "      <td>...</td>\n",
       "      <td>0.0</td>\n",
       "      <td>0.0</td>\n",
       "      <td>0.0</td>\n",
       "      <td>0.0</td>\n",
       "      <td>0.0</td>\n",
       "      <td>0.0</td>\n",
       "      <td>0.0</td>\n",
       "      <td>0.0</td>\n",
       "      <td>0.0</td>\n",
       "      <td>0.0</td>\n",
       "    </tr>\n",
       "    <tr>\n",
       "      <th>17</th>\n",
       "      <td>0.0</td>\n",
       "      <td>0.0</td>\n",
       "      <td>7.0</td>\n",
       "      <td>0.0</td>\n",
       "      <td>0.0</td>\n",
       "      <td>0.0</td>\n",
       "      <td>0.0</td>\n",
       "      <td>0.0</td>\n",
       "      <td>0.0</td>\n",
       "      <td>10.0</td>\n",
       "      <td>...</td>\n",
       "      <td>0.0</td>\n",
       "      <td>0.0</td>\n",
       "      <td>8.0</td>\n",
       "      <td>0.0</td>\n",
       "      <td>0.0</td>\n",
       "      <td>0.0</td>\n",
       "      <td>0.0</td>\n",
       "      <td>0.0</td>\n",
       "      <td>0.0</td>\n",
       "      <td>0.0</td>\n",
       "    </tr>\n",
       "    <tr>\n",
       "      <th>38</th>\n",
       "      <td>0.0</td>\n",
       "      <td>0.0</td>\n",
       "      <td>0.0</td>\n",
       "      <td>0.0</td>\n",
       "      <td>0.0</td>\n",
       "      <td>0.0</td>\n",
       "      <td>0.0</td>\n",
       "      <td>0.0</td>\n",
       "      <td>0.0</td>\n",
       "      <td>0.0</td>\n",
       "      <td>...</td>\n",
       "      <td>0.0</td>\n",
       "      <td>0.0</td>\n",
       "      <td>0.0</td>\n",
       "      <td>0.0</td>\n",
       "      <td>0.0</td>\n",
       "      <td>0.0</td>\n",
       "      <td>0.0</td>\n",
       "      <td>0.0</td>\n",
       "      <td>0.0</td>\n",
       "      <td>0.0</td>\n",
       "    </tr>\n",
       "    <tr>\n",
       "      <th>43</th>\n",
       "      <td>10.0</td>\n",
       "      <td>0.0</td>\n",
       "      <td>0.0</td>\n",
       "      <td>0.0</td>\n",
       "      <td>0.0</td>\n",
       "      <td>7.0</td>\n",
       "      <td>0.0</td>\n",
       "      <td>0.0</td>\n",
       "      <td>0.0</td>\n",
       "      <td>0.0</td>\n",
       "      <td>...</td>\n",
       "      <td>0.0</td>\n",
       "      <td>0.0</td>\n",
       "      <td>0.0</td>\n",
       "      <td>0.0</td>\n",
       "      <td>0.0</td>\n",
       "      <td>0.0</td>\n",
       "      <td>0.0</td>\n",
       "      <td>0.0</td>\n",
       "      <td>0.0</td>\n",
       "      <td>0.0</td>\n",
       "    </tr>\n",
       "  </tbody>\n",
       "</table>\n",
       "<p>5 rows × 9785 columns</p>\n",
       "</div>"
      ],
      "text/plain": [
       "anime_id  1      5      6      7      8      15     16     17     18     \\\n",
       "user_id                                                                   \n",
       "5           0.0    0.0    8.0    0.0    0.0    6.0    0.0    6.0    6.0   \n",
       "7           0.0    0.0    0.0    0.0    0.0    0.0    0.0    0.0    0.0   \n",
       "17          0.0    0.0    7.0    0.0    0.0    0.0    0.0    0.0    0.0   \n",
       "38          0.0    0.0    0.0    0.0    0.0    0.0    0.0    0.0    0.0   \n",
       "43         10.0    0.0    0.0    0.0    0.0    7.0    0.0    0.0    0.0   \n",
       "\n",
       "anime_id  19     ...  34238  34239  34240  34252  34283  34324  34325  34349  \\\n",
       "user_id          ...                                                           \n",
       "5           0.0  ...    0.0    0.0    0.0    0.0    0.0    0.0    0.0    0.0   \n",
       "7           0.0  ...    0.0    0.0    0.0    0.0    0.0    0.0    0.0    0.0   \n",
       "17         10.0  ...    0.0    0.0    8.0    0.0    0.0    0.0    0.0    0.0   \n",
       "38          0.0  ...    0.0    0.0    0.0    0.0    0.0    0.0    0.0    0.0   \n",
       "43          0.0  ...    0.0    0.0    0.0    0.0    0.0    0.0    0.0    0.0   \n",
       "\n",
       "anime_id  34367  34475  \n",
       "user_id                 \n",
       "5           0.0    0.0  \n",
       "7           0.0    0.0  \n",
       "17          0.0    0.0  \n",
       "38          0.0    0.0  \n",
       "43          0.0    0.0  \n",
       "\n",
       "[5 rows x 9785 columns]"
      ]
     },
     "execution_count": 46,
     "metadata": {},
     "output_type": "execute_result"
    }
   ],
   "source": [
    "user_anime_matrix.head()"
   ]
  },
  {
   "cell_type": "code",
   "execution_count": 47,
   "metadata": {},
   "outputs": [],
   "source": [
    "user_ratings_mean = np.mean(user_anime_matrix.values, axis = 1)\n",
    "anime_ratings_mean = np.mean(user_anime_matrix.values, axis = 0)"
   ]
  },
  {
   "cell_type": "code",
   "execution_count": 48,
   "metadata": {},
   "outputs": [],
   "source": [
    "user_ratings_demeaned = user_anime_matrix.values - user_ratings_mean.reshape(-1, 1)"
   ]
  },
  {
   "cell_type": "code",
   "execution_count": 49,
   "metadata": {},
   "outputs": [
    {
     "name": "stdout",
     "output_type": "stream",
     "text": [
      "Sparsity level :  96.3 %\n"
     ]
    }
   ],
   "source": [
    "sparsity = round((np.sum(user_anime_matrix == 0).sum() / (n_users * n_anime)), 3)\n",
    "print(\"Sparsity level : \", sparsity * 100, \"%\")"
   ]
  },
  {
   "cell_type": "code",
   "execution_count": 50,
   "metadata": {},
   "outputs": [],
   "source": [
    "from scipy.sparse.linalg import svds\n",
    "\n",
    "# k = no of singular values and vectors to compute\n",
    "U, sigma, V = svds(user_ratings_demeaned, k = 50)"
   ]
  },
  {
   "cell_type": "code",
   "execution_count": 51,
   "metadata": {},
   "outputs": [],
   "source": [
    "sigma = np.diag(sigma)"
   ]
  },
  {
   "cell_type": "code",
   "execution_count": 52,
   "metadata": {},
   "outputs": [
    {
     "name": "stdout",
     "output_type": "stream",
     "text": [
      "(8713, 50)\n",
      "(50, 50)\n",
      "(50, 9785)\n"
     ]
    }
   ],
   "source": [
    "print(U.shape) # user vectors\n",
    "print(sigma.shape) # sigma vector\n",
    "print(V.shape) # Anime vectors"
   ]
  },
  {
   "cell_type": "code",
   "execution_count": 53,
   "metadata": {},
   "outputs": [],
   "source": [
    "all_user_predicted_ratings = np.dot(np.dot(U, sigma), V) + user_ratings_demeaned"
   ]
  },
  {
   "cell_type": "code",
   "execution_count": 54,
   "metadata": {},
   "outputs": [],
   "source": [
    "preds = pd.DataFrame(all_user_predicted_ratings, columns = user_anime_matrix.columns)"
   ]
  },
  {
   "cell_type": "code",
   "execution_count": 55,
   "metadata": {},
   "outputs": [],
   "source": [
    "preds.index = user_anime_matrix.index"
   ]
  },
  {
   "cell_type": "code",
   "execution_count": 56,
   "metadata": {},
   "outputs": [
    {
     "data": {
      "text/html": [
       "<div>\n",
       "<style scoped>\n",
       "    .dataframe tbody tr th:only-of-type {\n",
       "        vertical-align: middle;\n",
       "    }\n",
       "\n",
       "    .dataframe tbody tr th {\n",
       "        vertical-align: top;\n",
       "    }\n",
       "\n",
       "    .dataframe thead th {\n",
       "        text-align: right;\n",
       "    }\n",
       "</style>\n",
       "<table border=\"1\" class=\"dataframe\">\n",
       "  <thead>\n",
       "    <tr style=\"text-align: right;\">\n",
       "      <th>anime_id</th>\n",
       "      <th>1</th>\n",
       "      <th>5</th>\n",
       "      <th>6</th>\n",
       "      <th>7</th>\n",
       "      <th>8</th>\n",
       "      <th>15</th>\n",
       "      <th>16</th>\n",
       "      <th>17</th>\n",
       "      <th>18</th>\n",
       "      <th>19</th>\n",
       "      <th>...</th>\n",
       "      <th>34238</th>\n",
       "      <th>34239</th>\n",
       "      <th>34240</th>\n",
       "      <th>34252</th>\n",
       "      <th>34283</th>\n",
       "      <th>34324</th>\n",
       "      <th>34325</th>\n",
       "      <th>34349</th>\n",
       "      <th>34367</th>\n",
       "      <th>34475</th>\n",
       "    </tr>\n",
       "    <tr>\n",
       "      <th>user_id</th>\n",
       "      <th></th>\n",
       "      <th></th>\n",
       "      <th></th>\n",
       "      <th></th>\n",
       "      <th></th>\n",
       "      <th></th>\n",
       "      <th></th>\n",
       "      <th></th>\n",
       "      <th></th>\n",
       "      <th></th>\n",
       "      <th></th>\n",
       "      <th></th>\n",
       "      <th></th>\n",
       "      <th></th>\n",
       "      <th></th>\n",
       "      <th></th>\n",
       "      <th></th>\n",
       "      <th></th>\n",
       "      <th></th>\n",
       "      <th></th>\n",
       "      <th></th>\n",
       "    </tr>\n",
       "  </thead>\n",
       "  <tbody>\n",
       "    <tr>\n",
       "      <th>5</th>\n",
       "      <td>1.929948</td>\n",
       "      <td>0.227074</td>\n",
       "      <td>10.342037</td>\n",
       "      <td>-0.559362</td>\n",
       "      <td>0.279735</td>\n",
       "      <td>9.456760</td>\n",
       "      <td>0.771702</td>\n",
       "      <td>7.154207</td>\n",
       "      <td>7.864792</td>\n",
       "      <td>1.919285</td>\n",
       "      <td>...</td>\n",
       "      <td>-0.414067</td>\n",
       "      <td>-0.425489</td>\n",
       "      <td>-0.333756</td>\n",
       "      <td>-0.428058</td>\n",
       "      <td>-0.439508</td>\n",
       "      <td>-0.419297</td>\n",
       "      <td>-0.397033</td>\n",
       "      <td>-0.445034</td>\n",
       "      <td>-0.433524</td>\n",
       "      <td>-0.428303</td>\n",
       "    </tr>\n",
       "    <tr>\n",
       "      <th>7</th>\n",
       "      <td>-0.414867</td>\n",
       "      <td>-1.130675</td>\n",
       "      <td>0.320010</td>\n",
       "      <td>-0.585494</td>\n",
       "      <td>-0.463613</td>\n",
       "      <td>-0.071834</td>\n",
       "      <td>-0.177881</td>\n",
       "      <td>-0.249318</td>\n",
       "      <td>-0.478753</td>\n",
       "      <td>0.707096</td>\n",
       "      <td>...</td>\n",
       "      <td>-0.410949</td>\n",
       "      <td>-0.531983</td>\n",
       "      <td>-0.239767</td>\n",
       "      <td>-0.536716</td>\n",
       "      <td>-0.502035</td>\n",
       "      <td>-0.519529</td>\n",
       "      <td>-0.502481</td>\n",
       "      <td>-0.518870</td>\n",
       "      <td>-0.521739</td>\n",
       "      <td>-0.528273</td>\n",
       "    </tr>\n",
       "    <tr>\n",
       "      <th>17</th>\n",
       "      <td>5.056434</td>\n",
       "      <td>2.309345</td>\n",
       "      <td>9.743814</td>\n",
       "      <td>-0.939462</td>\n",
       "      <td>-0.880454</td>\n",
       "      <td>-0.300179</td>\n",
       "      <td>-0.979387</td>\n",
       "      <td>-0.728249</td>\n",
       "      <td>-0.398635</td>\n",
       "      <td>13.601374</td>\n",
       "      <td>...</td>\n",
       "      <td>-0.544389</td>\n",
       "      <td>-0.586074</td>\n",
       "      <td>10.261801</td>\n",
       "      <td>-0.582153</td>\n",
       "      <td>-0.565545</td>\n",
       "      <td>-0.587170</td>\n",
       "      <td>-0.595030</td>\n",
       "      <td>-0.593575</td>\n",
       "      <td>-0.581530</td>\n",
       "      <td>-0.585714</td>\n",
       "    </tr>\n",
       "    <tr>\n",
       "      <th>38</th>\n",
       "      <td>1.903936</td>\n",
       "      <td>-0.109595</td>\n",
       "      <td>1.317182</td>\n",
       "      <td>-0.259410</td>\n",
       "      <td>-0.619372</td>\n",
       "      <td>-0.069671</td>\n",
       "      <td>-1.753805</td>\n",
       "      <td>-0.489335</td>\n",
       "      <td>-0.054475</td>\n",
       "      <td>1.171413</td>\n",
       "      <td>...</td>\n",
       "      <td>-0.349836</td>\n",
       "      <td>-0.328354</td>\n",
       "      <td>-0.074123</td>\n",
       "      <td>-0.345950</td>\n",
       "      <td>-0.312118</td>\n",
       "      <td>-0.329062</td>\n",
       "      <td>-0.369792</td>\n",
       "      <td>-0.344562</td>\n",
       "      <td>-0.343321</td>\n",
       "      <td>-0.316840</td>\n",
       "    </tr>\n",
       "    <tr>\n",
       "      <th>43</th>\n",
       "      <td>13.320004</td>\n",
       "      <td>0.872341</td>\n",
       "      <td>3.385141</td>\n",
       "      <td>0.654086</td>\n",
       "      <td>-0.041195</td>\n",
       "      <td>7.864907</td>\n",
       "      <td>0.007664</td>\n",
       "      <td>-0.353955</td>\n",
       "      <td>-0.694558</td>\n",
       "      <td>0.319339</td>\n",
       "      <td>...</td>\n",
       "      <td>-0.394953</td>\n",
       "      <td>-0.445059</td>\n",
       "      <td>-0.239496</td>\n",
       "      <td>-0.466378</td>\n",
       "      <td>-0.461326</td>\n",
       "      <td>-0.412965</td>\n",
       "      <td>-0.469153</td>\n",
       "      <td>-0.464006</td>\n",
       "      <td>-0.444423</td>\n",
       "      <td>-0.430469</td>\n",
       "    </tr>\n",
       "  </tbody>\n",
       "</table>\n",
       "<p>5 rows × 9785 columns</p>\n",
       "</div>"
      ],
      "text/plain": [
       "anime_id      1         5          6         7         8         15     \\\n",
       "user_id                                                                  \n",
       "5          1.929948  0.227074  10.342037 -0.559362  0.279735  9.456760   \n",
       "7         -0.414867 -1.130675   0.320010 -0.585494 -0.463613 -0.071834   \n",
       "17         5.056434  2.309345   9.743814 -0.939462 -0.880454 -0.300179   \n",
       "38         1.903936 -0.109595   1.317182 -0.259410 -0.619372 -0.069671   \n",
       "43        13.320004  0.872341   3.385141  0.654086 -0.041195  7.864907   \n",
       "\n",
       "anime_id     16        17        18         19     ...     34238     34239  \\\n",
       "user_id                                            ...                       \n",
       "5         0.771702  7.154207  7.864792   1.919285  ... -0.414067 -0.425489   \n",
       "7        -0.177881 -0.249318 -0.478753   0.707096  ... -0.410949 -0.531983   \n",
       "17       -0.979387 -0.728249 -0.398635  13.601374  ... -0.544389 -0.586074   \n",
       "38       -1.753805 -0.489335 -0.054475   1.171413  ... -0.349836 -0.328354   \n",
       "43        0.007664 -0.353955 -0.694558   0.319339  ... -0.394953 -0.445059   \n",
       "\n",
       "anime_id      34240     34252     34283     34324     34325     34349  \\\n",
       "user_id                                                                 \n",
       "5         -0.333756 -0.428058 -0.439508 -0.419297 -0.397033 -0.445034   \n",
       "7         -0.239767 -0.536716 -0.502035 -0.519529 -0.502481 -0.518870   \n",
       "17        10.261801 -0.582153 -0.565545 -0.587170 -0.595030 -0.593575   \n",
       "38        -0.074123 -0.345950 -0.312118 -0.329062 -0.369792 -0.344562   \n",
       "43        -0.239496 -0.466378 -0.461326 -0.412965 -0.469153 -0.464006   \n",
       "\n",
       "anime_id     34367     34475  \n",
       "user_id                       \n",
       "5        -0.433524 -0.428303  \n",
       "7        -0.521739 -0.528273  \n",
       "17       -0.581530 -0.585714  \n",
       "38       -0.343321 -0.316840  \n",
       "43       -0.444423 -0.430469  \n",
       "\n",
       "[5 rows x 9785 columns]"
      ]
     },
     "execution_count": 56,
     "metadata": {},
     "output_type": "execute_result"
    }
   ],
   "source": [
    "preds.head()"
   ]
  },
  {
   "cell_type": "code",
   "execution_count": 57,
   "metadata": {},
   "outputs": [],
   "source": [
    "user_id_mapper = {key : value for key, value in enumerate(preds.index.values)}"
   ]
  },
  {
   "cell_type": "code",
   "execution_count": 58,
   "metadata": {},
   "outputs": [],
   "source": [
    "def recommend_animes(user_id, num_recomms):\n",
    "    user_row_number = user_id\n",
    "    sorted_user_predictions = preds.iloc[user_row_number].sort_values(ascending = False)\n",
    "    \n",
    "    ratings_data = ratings[ratings['user_id'] == user_id_mapper[user_row_number]]\n",
    "    ratings_full = ratings_data.merge(anime, on = 'anime_id', suffixes = [\"\", \"_user\"]).sort_values(by = ['rating_user'], ascending = False)\n",
    "    \n",
    "    print(\"User {} has already rated {} movies\".format(user_id_mapper[user_id], ratings_full.shape[0]))\n",
    "    \n",
    "    print(\"Recommending highest {} predicted ratings anime not already rated\".format(num_recomms))\n",
    "    \n",
    "    anime_id_recomms = sorted_user_predictions.index[:num_recomms].values\n",
    "    anime_recomms = anime[anime['anime_id'].isin(anime_id_recomms)]\n",
    "    \n",
    "    columns_to_take = ['name', 'genre', 'type', 'episodes', 'rating']\n",
    "    \n",
    "    return ratings_full[columns_to_take].head(10), anime_recomms[columns_to_take]"
   ]
  },
  {
   "cell_type": "code",
   "execution_count": 59,
   "metadata": {},
   "outputs": [
    {
     "name": "stdout",
     "output_type": "stream",
     "text": [
      "User 38 has already rated 253 movies\n",
      "Recommending highest 10 predicted ratings anime not already rated\n"
     ]
    }
   ],
   "source": [
    "rated, unrated = recommend_animes(3, 10)"
   ]
  },
  {
   "cell_type": "code",
   "execution_count": 60,
   "metadata": {},
   "outputs": [
    {
     "data": {
      "text/html": [
       "<div>\n",
       "<style scoped>\n",
       "    .dataframe tbody tr th:only-of-type {\n",
       "        vertical-align: middle;\n",
       "    }\n",
       "\n",
       "    .dataframe tbody tr th {\n",
       "        vertical-align: top;\n",
       "    }\n",
       "\n",
       "    .dataframe thead th {\n",
       "        text-align: right;\n",
       "    }\n",
       "</style>\n",
       "<table border=\"1\" class=\"dataframe\">\n",
       "  <thead>\n",
       "    <tr style=\"text-align: right;\">\n",
       "      <th></th>\n",
       "      <th>name</th>\n",
       "      <th>genre</th>\n",
       "      <th>type</th>\n",
       "      <th>episodes</th>\n",
       "      <th>rating</th>\n",
       "    </tr>\n",
       "  </thead>\n",
       "  <tbody>\n",
       "    <tr>\n",
       "      <th>61</th>\n",
       "      <td>Fullmetal Alchemist: Brotherhood</td>\n",
       "      <td>Action, Adventure, Drama, Fantasy, Magic, Mili...</td>\n",
       "      <td>TV</td>\n",
       "      <td>64</td>\n",
       "      <td>10</td>\n",
       "    </tr>\n",
       "    <tr>\n",
       "      <th>251</th>\n",
       "      <td>Haikyuu!!: Karasuno Koukou VS Shiratorizawa Ga...</td>\n",
       "      <td>Comedy, Drama, School, Shounen, Sports</td>\n",
       "      <td>TV</td>\n",
       "      <td>10</td>\n",
       "      <td>10</td>\n",
       "    </tr>\n",
       "    <tr>\n",
       "      <th>120</th>\n",
       "      <td>Hunter x Hunter (2011)</td>\n",
       "      <td>Action, Adventure, Shounen, Super Power</td>\n",
       "      <td>TV</td>\n",
       "      <td>148</td>\n",
       "      <td>10</td>\n",
       "    </tr>\n",
       "    <tr>\n",
       "      <th>48</th>\n",
       "      <td>Clannad: After Story</td>\n",
       "      <td>Drama, Fantasy, Romance, Slice of Life, Supern...</td>\n",
       "      <td>TV</td>\n",
       "      <td>24</td>\n",
       "      <td>3</td>\n",
       "    </tr>\n",
       "    <tr>\n",
       "      <th>18</th>\n",
       "      <td>Gintama</td>\n",
       "      <td>Action, Comedy, Historical, Parody, Samurai, S...</td>\n",
       "      <td>TV</td>\n",
       "      <td>201</td>\n",
       "      <td>7</td>\n",
       "    </tr>\n",
       "    <tr>\n",
       "      <th>37</th>\n",
       "      <td>Code Geass: Hangyaku no Lelouch R2</td>\n",
       "      <td>Action, Drama, Mecha, Military, Sci-Fi, Super ...</td>\n",
       "      <td>TV</td>\n",
       "      <td>25</td>\n",
       "      <td>10</td>\n",
       "    </tr>\n",
       "    <tr>\n",
       "      <th>230</th>\n",
       "      <td>Haikyuu!! Second Season</td>\n",
       "      <td>Comedy, Drama, School, Shounen, Sports</td>\n",
       "      <td>TV</td>\n",
       "      <td>25</td>\n",
       "      <td>10</td>\n",
       "    </tr>\n",
       "    <tr>\n",
       "      <th>22</th>\n",
       "      <td>Code Geass: Hangyaku no Lelouch</td>\n",
       "      <td>Action, Mecha, Military, School, Sci-Fi, Super...</td>\n",
       "      <td>TV</td>\n",
       "      <td>25</td>\n",
       "      <td>10</td>\n",
       "    </tr>\n",
       "    <tr>\n",
       "      <th>234</th>\n",
       "      <td>One Punch Man</td>\n",
       "      <td>Action, Comedy, Parody, Sci-Fi, Seinen, Super ...</td>\n",
       "      <td>TV</td>\n",
       "      <td>12</td>\n",
       "      <td>9</td>\n",
       "    </tr>\n",
       "    <tr>\n",
       "      <th>27</th>\n",
       "      <td>Tengen Toppa Gurren Lagann</td>\n",
       "      <td>Action, Adventure, Comedy, Mecha, Sci-Fi</td>\n",
       "      <td>TV</td>\n",
       "      <td>27</td>\n",
       "      <td>10</td>\n",
       "    </tr>\n",
       "  </tbody>\n",
       "</table>\n",
       "</div>"
      ],
      "text/plain": [
       "                                                  name  \\\n",
       "61                    Fullmetal Alchemist: Brotherhood   \n",
       "251  Haikyuu!!: Karasuno Koukou VS Shiratorizawa Ga...   \n",
       "120                             Hunter x Hunter (2011)   \n",
       "48                                Clannad: After Story   \n",
       "18                                             Gintama   \n",
       "37                  Code Geass: Hangyaku no Lelouch R2   \n",
       "230                            Haikyuu!! Second Season   \n",
       "22                     Code Geass: Hangyaku no Lelouch   \n",
       "234                                      One Punch Man   \n",
       "27                          Tengen Toppa Gurren Lagann   \n",
       "\n",
       "                                                 genre type episodes  rating  \n",
       "61   Action, Adventure, Drama, Fantasy, Magic, Mili...   TV       64      10  \n",
       "251             Comedy, Drama, School, Shounen, Sports   TV       10      10  \n",
       "120            Action, Adventure, Shounen, Super Power   TV      148      10  \n",
       "48   Drama, Fantasy, Romance, Slice of Life, Supern...   TV       24       3  \n",
       "18   Action, Comedy, Historical, Parody, Samurai, S...   TV      201       7  \n",
       "37   Action, Drama, Mecha, Military, Sci-Fi, Super ...   TV       25      10  \n",
       "230             Comedy, Drama, School, Shounen, Sports   TV       25      10  \n",
       "22   Action, Mecha, Military, School, Sci-Fi, Super...   TV       25      10  \n",
       "234  Action, Comedy, Parody, Sci-Fi, Seinen, Super ...   TV       12       9  \n",
       "27            Action, Adventure, Comedy, Mecha, Sci-Fi   TV       27      10  "
      ]
     },
     "execution_count": 60,
     "metadata": {},
     "output_type": "execute_result"
    }
   ],
   "source": [
    "rated"
   ]
  },
  {
   "cell_type": "code",
   "execution_count": 61,
   "metadata": {},
   "outputs": [
    {
     "data": {
      "text/html": [
       "<div>\n",
       "<style scoped>\n",
       "    .dataframe tbody tr th:only-of-type {\n",
       "        vertical-align: middle;\n",
       "    }\n",
       "\n",
       "    .dataframe tbody tr th {\n",
       "        vertical-align: top;\n",
       "    }\n",
       "\n",
       "    .dataframe thead th {\n",
       "        text-align: right;\n",
       "    }\n",
       "</style>\n",
       "<table border=\"1\" class=\"dataframe\">\n",
       "  <thead>\n",
       "    <tr style=\"text-align: right;\">\n",
       "      <th></th>\n",
       "      <th>name</th>\n",
       "      <th>genre</th>\n",
       "      <th>type</th>\n",
       "      <th>episodes</th>\n",
       "      <th>rating</th>\n",
       "    </tr>\n",
       "  </thead>\n",
       "  <tbody>\n",
       "    <tr>\n",
       "      <th>1</th>\n",
       "      <td>Fullmetal Alchemist: Brotherhood</td>\n",
       "      <td>Action, Adventure, Drama, Fantasy, Magic, Mili...</td>\n",
       "      <td>TV</td>\n",
       "      <td>64</td>\n",
       "      <td>9.26</td>\n",
       "    </tr>\n",
       "    <tr>\n",
       "      <th>13</th>\n",
       "      <td>Code Geass: Hangyaku no Lelouch R2</td>\n",
       "      <td>Action, Drama, Mecha, Military, Sci-Fi, Super ...</td>\n",
       "      <td>TV</td>\n",
       "      <td>25</td>\n",
       "      <td>8.98</td>\n",
       "    </tr>\n",
       "    <tr>\n",
       "      <th>19</th>\n",
       "      <td>Code Geass: Hangyaku no Lelouch</td>\n",
       "      <td>Action, Mecha, Military, School, Sci-Fi, Super...</td>\n",
       "      <td>TV</td>\n",
       "      <td>25</td>\n",
       "      <td>8.83</td>\n",
       "    </tr>\n",
       "    <tr>\n",
       "      <th>86</th>\n",
       "      <td>Shingeki no Kyojin</td>\n",
       "      <td>Action, Drama, Fantasy, Shounen, Super Power</td>\n",
       "      <td>TV</td>\n",
       "      <td>25</td>\n",
       "      <td>8.54</td>\n",
       "    </tr>\n",
       "    <tr>\n",
       "      <th>94</th>\n",
       "      <td>Fate/Zero</td>\n",
       "      <td>Action, Fantasy, Supernatural</td>\n",
       "      <td>TV</td>\n",
       "      <td>13</td>\n",
       "      <td>8.51</td>\n",
       "    </tr>\n",
       "    <tr>\n",
       "      <th>98</th>\n",
       "      <td>Psycho-Pass</td>\n",
       "      <td>Action, Police, Psychological, Sci-Fi</td>\n",
       "      <td>TV</td>\n",
       "      <td>22</td>\n",
       "      <td>8.50</td>\n",
       "    </tr>\n",
       "    <tr>\n",
       "      <th>118</th>\n",
       "      <td>No Game No Life</td>\n",
       "      <td>Adventure, Comedy, Ecchi, Fantasy, Game, Super...</td>\n",
       "      <td>TV</td>\n",
       "      <td>12</td>\n",
       "      <td>8.47</td>\n",
       "    </tr>\n",
       "    <tr>\n",
       "      <th>740</th>\n",
       "      <td>Toaru Kagaku no Railgun</td>\n",
       "      <td>Action, Sci-Fi, Super Power</td>\n",
       "      <td>TV</td>\n",
       "      <td>24</td>\n",
       "      <td>7.87</td>\n",
       "    </tr>\n",
       "    <tr>\n",
       "      <th>789</th>\n",
       "      <td>Toaru Majutsu no Index II</td>\n",
       "      <td>Action, Magic, Sci-Fi, Super Power</td>\n",
       "      <td>TV</td>\n",
       "      <td>24</td>\n",
       "      <td>7.84</td>\n",
       "    </tr>\n",
       "    <tr>\n",
       "      <th>1096</th>\n",
       "      <td>Toaru Majutsu no Index</td>\n",
       "      <td>Action, Magic, Sci-Fi, Super Power</td>\n",
       "      <td>TV</td>\n",
       "      <td>24</td>\n",
       "      <td>7.69</td>\n",
       "    </tr>\n",
       "  </tbody>\n",
       "</table>\n",
       "</div>"
      ],
      "text/plain": [
       "                                    name  \\\n",
       "1       Fullmetal Alchemist: Brotherhood   \n",
       "13    Code Geass: Hangyaku no Lelouch R2   \n",
       "19       Code Geass: Hangyaku no Lelouch   \n",
       "86                    Shingeki no Kyojin   \n",
       "94                             Fate/Zero   \n",
       "98                           Psycho-Pass   \n",
       "118                      No Game No Life   \n",
       "740              Toaru Kagaku no Railgun   \n",
       "789            Toaru Majutsu no Index II   \n",
       "1096              Toaru Majutsu no Index   \n",
       "\n",
       "                                                  genre type episodes  rating  \n",
       "1     Action, Adventure, Drama, Fantasy, Magic, Mili...   TV       64    9.26  \n",
       "13    Action, Drama, Mecha, Military, Sci-Fi, Super ...   TV       25    8.98  \n",
       "19    Action, Mecha, Military, School, Sci-Fi, Super...   TV       25    8.83  \n",
       "86         Action, Drama, Fantasy, Shounen, Super Power   TV       25    8.54  \n",
       "94                        Action, Fantasy, Supernatural   TV       13    8.51  \n",
       "98                Action, Police, Psychological, Sci-Fi   TV       22    8.50  \n",
       "118   Adventure, Comedy, Ecchi, Fantasy, Game, Super...   TV       12    8.47  \n",
       "740                         Action, Sci-Fi, Super Power   TV       24    7.87  \n",
       "789                  Action, Magic, Sci-Fi, Super Power   TV       24    7.84  \n",
       "1096                 Action, Magic, Sci-Fi, Super Power   TV       24    7.69  "
      ]
     },
     "execution_count": 61,
     "metadata": {},
     "output_type": "execute_result"
    }
   ],
   "source": [
    "unrated"
   ]
  },
  {
   "cell_type": "markdown",
   "metadata": {},
   "source": [
    "### Collaborative filtering using Surprise Library"
   ]
  },
  {
   "cell_type": "code",
   "execution_count": 63,
   "metadata": {},
   "outputs": [],
   "source": [
    "from surprise import Reader, Dataset, SVD, SVDpp\n",
    "from surprise import accuracy"
   ]
  },
  {
   "cell_type": "code",
   "execution_count": 80,
   "metadata": {},
   "outputs": [],
   "source": [
    "rating = pd.read_csv(\"rating.csv\")\n",
    "anime = pd.read_csv(\"anime.csv\")"
   ]
  },
  {
   "cell_type": "code",
   "execution_count": 81,
   "metadata": {},
   "outputs": [],
   "source": [
    "data = pd.merge(anime, rating, on = 'anime_id', suffixes = [\"\", \"_user\"])"
   ]
  },
  {
   "cell_type": "code",
   "execution_count": 82,
   "metadata": {},
   "outputs": [],
   "source": [
    "data = data.rename(columns = {\"name\" : \"anime_title\", \"rating_user\" : \"user_rating\"})"
   ]
  },
  {
   "cell_type": "code",
   "execution_count": 83,
   "metadata": {},
   "outputs": [],
   "source": [
    "data['user_rating'].replace({-1 : np.nan}, inplace = True)"
   ]
  },
  {
   "cell_type": "code",
   "execution_count": 84,
   "metadata": {},
   "outputs": [],
   "source": [
    "data.dropna(inplace = True)"
   ]
  },
  {
   "cell_type": "code",
   "execution_count": 85,
   "metadata": {},
   "outputs": [
    {
     "data": {
      "text/plain": [
       "(6337146, 9)"
      ]
     },
     "execution_count": 85,
     "metadata": {},
     "output_type": "execute_result"
    }
   ],
   "source": [
    "data.shape"
   ]
  },
  {
   "cell_type": "code",
   "execution_count": 86,
   "metadata": {},
   "outputs": [],
   "source": [
    "counts = data['user_id'].value_counts()\n",
    "data = data[data['user_id'].isin(counts[counts >= 1000].index)].reset_index(drop = True)"
   ]
  },
  {
   "cell_type": "code",
   "execution_count": 87,
   "metadata": {},
   "outputs": [
    {
     "name": "stdout",
     "output_type": "stream",
     "text": [
      "# users :  165\n",
      "# anime :  9186\n"
     ]
    }
   ],
   "source": [
    "print(\"# users : \", data[\"user_id\"].nunique())\n",
    "print(\"# anime : \", data[\"anime_id\"].nunique())"
   ]
  },
  {
   "cell_type": "code",
   "execution_count": 88,
   "metadata": {},
   "outputs": [
    {
     "data": {
      "image/png": "[encoded data removed]",
      "text/plain": [
       "<Figure size 720x360 with 1 Axes>"
      ]
     },
     "metadata": {
      "needs_background": "light"
     },
     "output_type": "display_data"
    }
   ],
   "source": [
    "plt.figure(figsize = (10, 5))\n",
    "sns.barplot(data['user_rating'].value_counts().index,\n",
    "            data['user_rating'].value_counts().values)\n",
    "plt.show()"
   ]
  },
  {
   "cell_type": "code",
   "execution_count": 89,
   "metadata": {},
   "outputs": [
    {
     "data": {
      "text/html": [
       "<div>\n",
       "<style scoped>\n",
       "    .dataframe tbody tr th:only-of-type {\n",
       "        vertical-align: middle;\n",
       "    }\n",
       "\n",
       "    .dataframe tbody tr th {\n",
       "        vertical-align: top;\n",
       "    }\n",
       "\n",
       "    .dataframe thead th {\n",
       "        text-align: right;\n",
       "    }\n",
       "</style>\n",
       "<table border=\"1\" class=\"dataframe\">\n",
       "  <thead>\n",
       "    <tr style=\"text-align: right;\">\n",
       "      <th></th>\n",
       "      <th>user_id</th>\n",
       "      <th>anime_id</th>\n",
       "      <th>user_rating</th>\n",
       "    </tr>\n",
       "  </thead>\n",
       "  <tbody>\n",
       "    <tr>\n",
       "      <th>0</th>\n",
       "      <td>1497</td>\n",
       "      <td>32281</td>\n",
       "      <td>10.0</td>\n",
       "    </tr>\n",
       "    <tr>\n",
       "      <th>1</th>\n",
       "      <td>2951</td>\n",
       "      <td>32281</td>\n",
       "      <td>9.0</td>\n",
       "    </tr>\n",
       "    <tr>\n",
       "      <th>2</th>\n",
       "      <td>6569</td>\n",
       "      <td>32281</td>\n",
       "      <td>10.0</td>\n",
       "    </tr>\n",
       "    <tr>\n",
       "      <th>3</th>\n",
       "      <td>7249</td>\n",
       "      <td>32281</td>\n",
       "      <td>10.0</td>\n",
       "    </tr>\n",
       "    <tr>\n",
       "      <th>4</th>\n",
       "      <td>10826</td>\n",
       "      <td>32281</td>\n",
       "      <td>10.0</td>\n",
       "    </tr>\n",
       "    <tr>\n",
       "      <th>...</th>\n",
       "      <td>...</td>\n",
       "      <td>...</td>\n",
       "      <td>...</td>\n",
       "    </tr>\n",
       "    <tr>\n",
       "      <th>218713</th>\n",
       "      <td>58483</td>\n",
       "      <td>5541</td>\n",
       "      <td>1.0</td>\n",
       "    </tr>\n",
       "    <tr>\n",
       "      <th>218714</th>\n",
       "      <td>58483</td>\n",
       "      <td>9316</td>\n",
       "      <td>1.0</td>\n",
       "    </tr>\n",
       "    <tr>\n",
       "      <th>218715</th>\n",
       "      <td>49503</td>\n",
       "      <td>5543</td>\n",
       "      <td>4.0</td>\n",
       "    </tr>\n",
       "    <tr>\n",
       "      <th>218716</th>\n",
       "      <td>58483</td>\n",
       "      <td>5543</td>\n",
       "      <td>1.0</td>\n",
       "    </tr>\n",
       "    <tr>\n",
       "      <th>218717</th>\n",
       "      <td>49503</td>\n",
       "      <td>5621</td>\n",
       "      <td>6.0</td>\n",
       "    </tr>\n",
       "  </tbody>\n",
       "</table>\n",
       "<p>218718 rows × 3 columns</p>\n",
       "</div>"
      ],
      "text/plain": [
       "        user_id  anime_id  user_rating\n",
       "0          1497     32281         10.0\n",
       "1          2951     32281          9.0\n",
       "2          6569     32281         10.0\n",
       "3          7249     32281         10.0\n",
       "4         10826     32281         10.0\n",
       "...         ...       ...          ...\n",
       "218713    58483      5541          1.0\n",
       "218714    58483      9316          1.0\n",
       "218715    49503      5543          4.0\n",
       "218716    58483      5543          1.0\n",
       "218717    49503      5621          6.0\n",
       "\n",
       "[218718 rows x 3 columns]"
      ]
     },
     "execution_count": 89,
     "metadata": {},
     "output_type": "execute_result"
    }
   ],
   "source": [
    "data[[\"user_id\", \"anime_id\", \"user_rating\"]]"
   ]
  },
  {
   "cell_type": "code",
   "execution_count": 90,
   "metadata": {},
   "outputs": [],
   "source": [
    "from surprise import Reader, Dataset, SVD, SVDpp\n",
    "from surprise import accuracy"
   ]
  },
  {
   "cell_type": "code",
   "execution_count": 91,
   "metadata": {},
   "outputs": [],
   "source": [
    "reader = Reader(rating_scale = (1, 10))\n",
    "\n",
    "dataset = Dataset.load_from_df(data[[\"user_id\", \"anime_id\", \"user_rating\"]], reader = reader)"
   ]
  },
  {
   "cell_type": "code",
   "execution_count": 92,
   "metadata": {},
   "outputs": [],
   "source": [
    "svd = SVD(n_factors = 50)"
   ]
  },
  {
   "cell_type": "code",
   "execution_count": 93,
   "metadata": {},
   "outputs": [],
   "source": [
    "svd_plusplus = SVDpp(n_factors = 50)"
   ]
  },
  {
   "cell_type": "code",
   "execution_count": 95,
   "metadata": {},
   "outputs": [],
   "source": [
    "trainset = dataset.build_full_trainset()"
   ]
  },
  {
   "cell_type": "code",
   "execution_count": 96,
   "metadata": {},
   "outputs": [
    {
     "data": {
      "text/plain": [
       "<surprise.prediction_algorithms.matrix_factorization.SVD at 0x19191d24b88>"
      ]
     },
     "execution_count": 96,
     "metadata": {},
     "output_type": "execute_result"
    }
   ],
   "source": [
    "svd.fit(trainset)"
   ]
  },
  {
   "cell_type": "code",
   "execution_count": 98,
   "metadata": {},
   "outputs": [],
   "source": [
    "#svd_plusplus.fit(trainset)"
   ]
  },
  {
   "cell_type": "code",
   "execution_count": 100,
   "metadata": {},
   "outputs": [],
   "source": [
    "id_2_names = dict()\n",
    "\n",
    "for idx, names in zip(anime['anime_id'], anime['name']):\n",
    "    id_2_names[idx] = names"
   ]
  },
  {
   "cell_type": "code",
   "execution_count": 105,
   "metadata": {},
   "outputs": [],
   "source": [
    "def build_anti_testset4user(user_id):\n",
    "    \n",
    "    fill = trainset.global_mean\n",
    "    anti_testset = list()\n",
    "    u = trainset.to_inner_uid(user_id)\n",
    "    \n",
    "    # ur == user ratings\n",
    "    user_items = set([item_inner_id for (item_inner_id, rating) in trainset.ur[u]])\n",
    "    \n",
    "    anti_testset += [(trainset.to_raw_uid(u), trainset.to_raw_iid(i), fill) for i in trainset.all_items() if i not in user_items]\n",
    "    \n",
    "    return anti_testset"
   ]
  },
  {
   "cell_type": "code",
   "execution_count": 110,
   "metadata": {},
   "outputs": [],
   "source": [
    "def Top_n_Recs_SVD(user_id, num_recommender = 10):\n",
    "    testSet = build_anti_testset4user(user_id)\n",
    "    predict = svd.test(testSet)\n",
    "    \n",
    "    recommendation = list()\n",
    "    \n",
    "    for userID, animeID, actualRating, estimatedRating, _ in predict:\n",
    "        intAnimeID = int(animeID)\n",
    "        recommendation.append((intAnimeID, estimatedRating))\n",
    "    \n",
    "    recommendation.sort(key = lambda x : x[1], reverse = True)\n",
    "    \n",
    "    anime_names = []\n",
    "    anime_ratings = []\n",
    "    \n",
    "    for name, ratings in recommendation[:20]:\n",
    "        anime_names.append(id_2_names[name])\n",
    "        anime_ratings.append(ratings)\n",
    "        \n",
    "    anime_dataframe = pd.DataFrame({\"name\" : anime_names,\n",
    "                                    \"rating\" : anime_ratings}).merge(anime[['name', 'type', 'episodes']], on = 'name', how = 'left')\n",
    "    \n",
    "    return anime_dataframe.head(num_recommender)"
   ]
  },
  {
   "cell_type": "code",
   "execution_count": 111,
   "metadata": {},
   "outputs": [
    {
     "data": {
      "text/html": [
       "<div>\n",
       "<style scoped>\n",
       "    .dataframe tbody tr th:only-of-type {\n",
       "        vertical-align: middle;\n",
       "    }\n",
       "\n",
       "    .dataframe tbody tr th {\n",
       "        vertical-align: top;\n",
       "    }\n",
       "\n",
       "    .dataframe thead th {\n",
       "        text-align: right;\n",
       "    }\n",
       "</style>\n",
       "<table border=\"1\" class=\"dataframe\">\n",
       "  <thead>\n",
       "    <tr style=\"text-align: right;\">\n",
       "      <th></th>\n",
       "      <th>name</th>\n",
       "      <th>rating</th>\n",
       "      <th>type</th>\n",
       "      <th>episodes</th>\n",
       "    </tr>\n",
       "  </thead>\n",
       "  <tbody>\n",
       "    <tr>\n",
       "      <th>0</th>\n",
       "      <td>Fullmetal Alchemist: Brotherhood</td>\n",
       "      <td>10.000000</td>\n",
       "      <td>TV</td>\n",
       "      <td>64</td>\n",
       "    </tr>\n",
       "    <tr>\n",
       "      <th>1</th>\n",
       "      <td>Haikyuu!!: Karasuno Koukou VS Shiratorizawa Ga...</td>\n",
       "      <td>9.786257</td>\n",
       "      <td>TV</td>\n",
       "      <td>10</td>\n",
       "    </tr>\n",
       "    <tr>\n",
       "      <th>2</th>\n",
       "      <td>Gosick</td>\n",
       "      <td>9.745759</td>\n",
       "      <td>TV</td>\n",
       "      <td>24</td>\n",
       "    </tr>\n",
       "    <tr>\n",
       "      <th>3</th>\n",
       "      <td>Mawaru Penguindrum</td>\n",
       "      <td>9.353662</td>\n",
       "      <td>TV</td>\n",
       "      <td>24</td>\n",
       "    </tr>\n",
       "    <tr>\n",
       "      <th>4</th>\n",
       "      <td>Hunter x Hunter (2011)</td>\n",
       "      <td>9.340271</td>\n",
       "      <td>TV</td>\n",
       "      <td>148</td>\n",
       "    </tr>\n",
       "    <tr>\n",
       "      <th>5</th>\n",
       "      <td>Lovely★Complex</td>\n",
       "      <td>9.331919</td>\n",
       "      <td>TV</td>\n",
       "      <td>24</td>\n",
       "    </tr>\n",
       "    <tr>\n",
       "      <th>6</th>\n",
       "      <td>Kara no Kyoukai 7: Satsujin Kousatsu (Kou)</td>\n",
       "      <td>9.212033</td>\n",
       "      <td>Movie</td>\n",
       "      <td>1</td>\n",
       "    </tr>\n",
       "    <tr>\n",
       "      <th>7</th>\n",
       "      <td>Nurarihyon no Mago: Sennen Makyou</td>\n",
       "      <td>9.186290</td>\n",
       "      <td>TV</td>\n",
       "      <td>24</td>\n",
       "    </tr>\n",
       "    <tr>\n",
       "      <th>8</th>\n",
       "      <td>Monster</td>\n",
       "      <td>9.158537</td>\n",
       "      <td>TV</td>\n",
       "      <td>74</td>\n",
       "    </tr>\n",
       "    <tr>\n",
       "      <th>9</th>\n",
       "      <td>Kemono no Souja Erin</td>\n",
       "      <td>9.152177</td>\n",
       "      <td>TV</td>\n",
       "      <td>50</td>\n",
       "    </tr>\n",
       "  </tbody>\n",
       "</table>\n",
       "</div>"
      ],
      "text/plain": [
       "                                                name     rating   type  \\\n",
       "0                   Fullmetal Alchemist: Brotherhood  10.000000     TV   \n",
       "1  Haikyuu!!: Karasuno Koukou VS Shiratorizawa Ga...   9.786257     TV   \n",
       "2                                             Gosick   9.745759     TV   \n",
       "3                                 Mawaru Penguindrum   9.353662     TV   \n",
       "4                             Hunter x Hunter (2011)   9.340271     TV   \n",
       "5                                     Lovely★Complex   9.331919     TV   \n",
       "6         Kara no Kyoukai 7: Satsujin Kousatsu (Kou)   9.212033  Movie   \n",
       "7                  Nurarihyon no Mago: Sennen Makyou   9.186290     TV   \n",
       "8                                            Monster   9.158537     TV   \n",
       "9                               Kemono no Souja Erin   9.152177     TV   \n",
       "\n",
       "  episodes  \n",
       "0       64  \n",
       "1       10  \n",
       "2       24  \n",
       "3       24  \n",
       "4      148  \n",
       "5       24  \n",
       "6        1  \n",
       "7       24  \n",
       "8       74  \n",
       "9       50  "
      ]
     },
     "execution_count": 111,
     "metadata": {},
     "output_type": "execute_result"
    }
   ],
   "source": [
    "Top_n_Recs_SVD(1497)"
   ]
  },
  {
   "cell_type": "code",
   "execution_count": 112,
   "metadata": {},
   "outputs": [],
   "source": [
    "testset = trainset.build_anti_testset()\n",
    "predictions_svd = svd.test(testset)"
   ]
  },
  {
   "cell_type": "code",
   "execution_count": 113,
   "metadata": {},
   "outputs": [
    {
     "name": "stdout",
     "output_type": "stream",
     "text": [
      "SVD - RMSE :  1.2280538430459815\n",
      "SVD - MAE :  0.9459308043536823\n"
     ]
    }
   ],
   "source": [
    "print(\"SVD - RMSE : \", accuracy.rmse(predictions_svd, verbose = False))\n",
    "print(\"SVD - MAE : \", accuracy.mae(predictions_svd, verbose = False))"
   ]
  },
  {
   "cell_type": "code",
   "execution_count": 114,
   "metadata": {},
   "outputs": [],
   "source": [
    "## function to give a recommendation to all users"
   ]
  },
  {
   "cell_type": "code",
   "execution_count": 115,
   "metadata": {},
   "outputs": [],
   "source": [
    "from collections import defaultdict\n",
    "\n",
    "def GetTopN(predictions, n = 10, minimum_rating = 6):\n",
    "    topN = defaultdict(list)\n",
    "    \n",
    "    for userID, animeID, actualRating, estimatedRating, _ in predictions:\n",
    "        if estimatedRating >= minimum_rating:\n",
    "            topN[int(userID)].append((int(animeID), estimatedRating))\n",
    "    \n",
    "    for userID, ratings in topN.items():\n",
    "        ratings.sort(key = lambda x : x[1], reverse = True)\n",
    "        topN[int(userID)] = ratings[:n]\n",
    "    \n",
    "    return topN"
   ]
  },
  {
   "cell_type": "code",
   "execution_count": 120,
   "metadata": {},
   "outputs": [
    {
     "name": "stdout",
     "output_type": "stream",
     "text": [
      "1497 [5114, 32935, 8425, 10721, 11061, 2034, 5205, 10049, 19, 5420]\n",
      "2951 [11887, 13601, 7711, 801, 10153, 6675, 27821, 12477, 330, 20]\n",
      "6569 [19, 820, 1698, 44, 918, 11061, 578, 2164, 1033, 28977]\n",
      "7249 [1974, 457, 12431, 2246, 5114, 21939, 33, 1453, 28977, 13125]\n",
      "10826 [11061, 2581, 1974, 3588, 6, 416, 3701, 1594, 28805, 3927]\n",
      "13877 [28701, 15689, 11737, 2025, 16512, 881, 4081, 16035, 159, 9330]\n"
     ]
    }
   ],
   "source": [
    "top_n = GetTopN(predictions_svd, n = 10)\n",
    "    \n",
    "ii = 0\n",
    "for uid, predict_ratings in top_n.items():\n",
    "    print(uid, [iid for (iid, _) in predict_ratings])\n",
    "    ii += 1\n",
    "        \n",
    "    if ii > 5:\n",
    "        break"
   ]
  },
  {
   "cell_type": "code",
   "execution_count": null,
   "metadata": {},
   "outputs": [],
   "source": []
  },
  {
   "cell_type": "code",
   "execution_count": null,
   "metadata": {},
   "outputs": [],
   "source": []
  }
 ],
 "metadata": {
  "kernelspec": {
   "display_name": "Python 3",
   "language": "python",
   "name": "python3"
  },
  "language_info": {
   "codemirror_mode": {
    "name": "ipython",
    "version": 3
   },
   "file_extension": ".py",
   "mimetype": "text/x-python",
   "name": "python",
   "nbconvert_exporter": "python",
   "pygments_lexer": "ipython3",
   "version": "3.7.6"
  }
 },
 "nbformat": 4,
 "nbformat_minor": 4
}
